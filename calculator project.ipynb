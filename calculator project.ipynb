{
 "cells": [
  {
   "cell_type": "markdown",
   "id": "af9391ff",
   "metadata": {},
   "source": [
    "# Basic calculator using python"
   ]
  },
  {
   "cell_type": "code",
   "execution_count": 1,
   "id": "fa6abcf4",
   "metadata": {},
   "outputs": [
    {
     "name": "stdout",
     "output_type": "stream",
     "text": [
      "Select operation::\n",
      "1.Addition\n",
      "2.Substraction\n",
      "3.Multiplication\n",
      "4.Division\n",
      "Enter the choice(1/2/3/4):4\n",
      "Enter first number:: 20\n",
      "Enter second number:: 5\n",
      "20.0 / 5.0 = 4.0\n",
      "Do you want to continue(yes/no)?yes\n",
      "Enter the choice(1/2/3/4):5\n",
      "Invalid input\n",
      "Enter the choice(1/2/3/4):3\n",
      "Enter first number:: 7\n",
      "Enter second number:: 4\n",
      "7.0 * 4.0 = 28.0\n",
      "Do you want to continue(yes/no)?no\n"
     ]
    }
   ],
   "source": [
    "def add(a,b):\n",
    "    return a+b\n",
    "def sub(a,b):\n",
    "    return a-b\n",
    "def mul(a,b):\n",
    "    return a*b\n",
    "def div(a,b):\n",
    "    return a/b\n",
    "print('Select operation::')\n",
    "print('1.Addition')\n",
    "print('2.Substraction')\n",
    "print('3.Multiplication')\n",
    "print('4.Division')\n",
    "\n",
    "\n",
    "\n",
    "while True:\n",
    "    # take input from user\n",
    "    choice=input('Enter the choice(1/2/3/4):')\n",
    "    \n",
    "    if choice in ('1','2','3','4'):\n",
    "        num1=float(input('Enter first number:: '))\n",
    "        num2=float(input('Enter second number:: '))\n",
    "        if choice=='1':\n",
    "            print(num1,'+',num2,'=',add(num1,num2))\n",
    "        elif choice=='2':\n",
    "            print(num1,'-',num2,'=',sub(num1,num2))\n",
    "        elif choice=='3':\n",
    "            print(num1,'*',num2,'=',mul(num1,num2))\n",
    "        elif choice=='4':\n",
    "            print(num1,'/',num2,'=',div(num1,num2))\n",
    "            \n",
    "        new_operation=input('Do you want to continue(yes/no)?')\n",
    "        if new_operation=='no':\n",
    "            break\n",
    "    else:\n",
    "        print('Invalid input')\n",
    "            \n"
   ]
  },
  {
   "cell_type": "code",
   "execution_count": 11,
   "id": "cdd0157b",
   "metadata": {},
   "outputs": [
    {
     "name": "stdout",
     "output_type": "stream",
     "text": [
      "Select operation::\n",
      "1.Addition\n",
      "2.Substraction\n",
      "3.Multiplication\n",
      "4.Division\n",
      "Enter the choice(1/2/3/4):1\n",
      "Enter first number:: 64\n",
      "Enter second number:: 77\n",
      "64.0 + 77.0 = 141.0\n",
      "Do you want to continue(yes/no)?yes\n",
      "Enter the choice(1/2/3/4):3\n",
      "Enter first number:: 43\n",
      "Enter second number:: 7\n",
      "43.0 * 7.0 = 301.0\n",
      "Do you want to continue(yes/no)?no\n"
     ]
    }
   ],
   "source": [
    "\n",
    "print('Select operation::')\n",
    "print('1.Addition')\n",
    "print('2.Substraction')\n",
    "print('3.Multiplication')\n",
    "print('4.Division')\n",
    "\n",
    "\n",
    "\n",
    "while True:\n",
    "    choice=input('Enter the choice(1/2/3/4):')\n",
    "    \n",
    "    if choice in ('1','2','3','4'):\n",
    "        num1=float(input('Enter first number:: '))\n",
    "        num2=float(input('Enter second number:: '))\n",
    "        if choice=='1':\n",
    "            print(num1,'+',num2,'=',add(num1,num2))\n",
    "        elif choice=='2':\n",
    "            print(num1,'-',num2,'=',sub(num1,num2))\n",
    "        elif choice=='3':\n",
    "            print(num1,'*',num2,'=',mul(num1,num2))\n",
    "        elif choice=='4':\n",
    "            print(num1,'/',num2,'=',div(num1,num2))\n",
    "            \n",
    "        new_operation=input('Do you want to continue(yes/no)?')\n",
    "        if new_operation=='no':\n",
    "            break\n",
    "    else:\n",
    "        print('Invalid input')\n",
    "            \n"
   ]
  }
 ],
 "metadata": {
  "kernelspec": {
   "display_name": "Python 3 (ipykernel)",
   "language": "python",
   "name": "python3"
  },
  "language_info": {
   "codemirror_mode": {
    "name": "ipython",
    "version": 3
   },
   "file_extension": ".py",
   "mimetype": "text/x-python",
   "name": "python",
   "nbconvert_exporter": "python",
   "pygments_lexer": "ipython3",
   "version": "3.9.13"
  }
 },
 "nbformat": 4,
 "nbformat_minor": 5
}
